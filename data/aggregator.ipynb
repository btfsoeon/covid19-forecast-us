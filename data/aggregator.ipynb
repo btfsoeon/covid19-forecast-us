{
 "cells": [
  {
   "cell_type": "code",
   "execution_count": 31,
   "metadata": {},
   "outputs": [],
   "source": [
    "import os\n",
    "\n",
    "import numpy as np\n",
    "import pandas as  pd"
   ]
  },
  {
   "cell_type": "code",
   "execution_count": 45,
   "metadata": {},
   "outputs": [],
   "source": [
    "file_dir = './'\n",
    "files = ['infection_by_county', 'population_by_county', 'vaccination_by_state', 'variant_by_state']\n",
    "file_format = '.csv'"
   ]
  },
  {
   "cell_type": "code",
   "execution_count": 88,
   "metadata": {
    "scrolled": true
   },
   "outputs": [
    {
     "name": "stdout",
     "output_type": "stream",
     "text": [
      "./infection_by_county\n",
      "./population_by_county\n",
      "./vaccination_by_state\n",
      "./variant_by_state\n"
     ]
    }
   ],
   "source": [
    "data = {}\n",
    "for f in files:\n",
    "    print(file_dir + f)\n",
    "    data[f] = pd.read_csv(file_dir + f + file_format)"
   ]
  },
  {
   "cell_type": "code",
   "execution_count": 89,
   "metadata": {},
   "outputs": [
    {
     "name": "stdout",
     "output_type": "stream",
     "text": [
      "         date     county       state     fips  cases  deaths\n",
      "0  2020-01-21  Snohomish  Washington  53061.0      1     0.0\n",
      "1  2020-01-22  Snohomish  Washington  53061.0      1     0.0\n",
      "2  2020-01-23  Snohomish  Washington  53061.0      1     0.0\n",
      "3  2020-01-24       Cook    Illinois  17031.0      1     0.0\n",
      "4  2020-01-24  Snohomish  Washington  53061.0      1     0.0\n",
      "   OBJECTID          GEO_ID        GEO_NAME GEO_PARENT_NAME  \\\n",
      "0         1  0500000US01001  Autauga County         Alabama   \n",
      "1         2  0500000US01003  Baldwin County         Alabama   \n",
      "2         3  0500000US01005  Barbour County         Alabama   \n",
      "3         4  0500000US01007     Bibb County         Alabama   \n",
      "4         5  0500000US01009   Blount County         Alabama   \n",
      "\n",
      "   GEO_LAND_AREA_SQ_KM  FIPS_CODE  B01001_001E  B01001_001M  POP_DENSITY  \\\n",
      "0          1539.602155       1001        55200          NaN    35.853418   \n",
      "1          4117.625664       1003       208107          NaN    50.540534   \n",
      "2          2292.160140       1005        25782          NaN    11.247905   \n",
      "3          1612.159622       1007        22527          NaN    13.973182   \n",
      "4          1670.127873       1009        57645          NaN    34.515321   \n",
      "\n",
      "   B09020_021E  B09020_021M  \n",
      "0          138          136  \n",
      "1          691          191  \n",
      "2          192          124  \n",
      "3          167           82  \n",
      "4          258           95  \n",
      "         date location  total_vaccinations  total_distributed  \\\n",
      "0  2021-01-12  Alabama             78134.0           377025.0   \n",
      "1  2021-01-13  Alabama             84040.0           378975.0   \n",
      "2  2021-01-14  Alabama             92300.0           435350.0   \n",
      "3  2021-01-15  Alabama            100567.0           444650.0   \n",
      "4  2021-01-16  Alabama                 NaN                NaN   \n",
      "\n",
      "   people_vaccinated  people_fully_vaccinated_per_hundred  \\\n",
      "0            70861.0                                 0.15   \n",
      "1            74792.0                                 0.19   \n",
      "2            80480.0                                  NaN   \n",
      "3            86956.0                                 0.28   \n",
      "4                NaN                                  NaN   \n",
      "\n",
      "   total_vaccinations_per_hundred  people_fully_vaccinated  \\\n",
      "0                            1.59                   7270.0   \n",
      "1                            1.71                   9245.0   \n",
      "2                            1.88                      NaN   \n",
      "3                            2.05                  13488.0   \n",
      "4                             NaN                      NaN   \n",
      "\n",
      "   people_vaccinated_per_hundred  distributed_per_hundred  \\\n",
      "0                           1.45                     7.69   \n",
      "1                           1.53                     7.73   \n",
      "2                           1.64                     8.88   \n",
      "3                           1.77                     9.07   \n",
      "4                            NaN                      NaN   \n",
      "\n",
      "   daily_vaccinations_raw  daily_vaccinations  daily_vaccinations_per_million  \\\n",
      "0                     NaN                 NaN                             NaN   \n",
      "1                  5906.0              5906.0                          1205.0   \n",
      "2                  8260.0              7083.0                          1445.0   \n",
      "3                  8267.0              7478.0                          1525.0   \n",
      "4                  7557.0              7498.0                          1529.0   \n",
      "\n",
      "   share_doses_used  \n",
      "0             0.207  \n",
      "1             0.222  \n",
      "2             0.212  \n",
      "3             0.226  \n",
      "4               NaN  \n",
      "  State  B.1.1.7 Variant   P.1 Variant   B.1.351 Variant \n",
      "0    AL               105             0                 1\n",
      "1    AK                 2             1                 0\n",
      "2    AS                 0             0                 0\n",
      "3    AZ                95             5                 0\n",
      "4    AR                 7             0                 0\n"
     ]
    }
   ],
   "source": [
    "for d in data:\n",
    "    print(data[d].head(5))\n",
    "\n",
    "## data preprocessing\n",
    "\n",
    "# rename B01001_001E to population from population_by_county\n",
    "data['population_by_county'] = data['population_by_county'].rename(columns={'B01001_001E': 'population'})\n",
    "\n",
    "# delete ' County' in'*** County' column from population_by_county\n",
    "for i, row in data['population_by_county'].iterrows():\n",
    "    if ' County' in row['GEO_NAME']:\n",
    "        data['population_by_county'].at[i, 'GEO_NAME'] = row['GEO_NAME'].replace(' County', '')\n",
    "\n",
    "data['population_by_county'] = data['population_by_county'].rename(columns={\n",
    "    'GEO_NAME': 'county',\n",
    "    'GEO_PARENT_NAME': 'state'})"
   ]
  },
  {
   "cell_type": "code",
   "execution_count": null,
   "outputs": [],
   "source": [
    "print(data['infection_by_county'].info())\n",
    "print(data['population_by_county'].info())\n",
    "\n",
    "# add 'population' column to 'infection_by_county'\n",
    "for i, row in data['population_by_county'].iterrows():\n",
    "    c = row['county']\n",
    "    s = row['state']\n",
    "    #np.where((data['infection_by_county']['county'] == c and data['infection_by_county']['state'] == s), row['population'], 1)\n",
    "    data['infection_by_county']['population'] = np.where((data['infection_by_county']['county'] == c && data['infection_by_county']['state'] == s), pbc['population'], 1)\n",
    "\n",
    "\n",
    "#TODO add column 'cases/population' , 'deaths/population'\n",
    "\n",
    "\n",
    "\n",
    "#TODO join on state (aggregate 'people_vaccinated_per_hundred' column)\n",
    "\n",
    "\n"
   ],
   "metadata": {
    "collapsed": false,
    "pycharm": {
     "name": "#%%\n"
    }
   }
  },
  {
   "cell_type": "code",
   "execution_count": 113,
   "metadata": {},
   "outputs": [
    {
     "name": "stdout",
     "output_type": "stream",
     "text": [
      "<class 'pandas.core.frame.DataFrame'>\n",
      "RangeIndex: 1180117 entries, 0 to 1180116\n",
      "Data columns (total 6 columns):\n",
      " #   Column  Non-Null Count    Dtype  \n",
      "---  ------  --------------    -----  \n",
      " 0   date    1180117 non-null  object \n",
      " 1   county  1180117 non-null  object \n",
      " 2   state   1180117 non-null  object \n",
      " 3   fips    1169309 non-null  float64\n",
      " 4   cases   1180117 non-null  int64  \n",
      " 5   deaths  1154258 non-null  float64\n",
      "dtypes: float64(2), int64(1), object(3)\n",
      "memory usage: 54.0+ MB\n",
      "None\n",
      "<class 'pandas.core.frame.DataFrame'>\n",
      "RangeIndex: 3220 entries, 0 to 3219\n",
      "Data columns (total 11 columns):\n",
      " #   Column               Non-Null Count  Dtype  \n",
      "---  ------               --------------  -----  \n",
      " 0   OBJECTID             3220 non-null   int64  \n",
      " 1   GEO_ID               3220 non-null   object \n",
      " 2   county               3220 non-null   object \n",
      " 3   state                3220 non-null   object \n",
      " 4   GEO_LAND_AREA_SQ_KM  3220 non-null   float64\n",
      " 5   FIPS_CODE            3220 non-null   int64  \n",
      " 6   population           3220 non-null   int64  \n",
      " 7   B01001_001M          116 non-null    float64\n",
      " 8   POP_DENSITY          3220 non-null   float64\n",
      " 9   B09020_021E          3220 non-null   int64  \n",
      " 10  B09020_021M          3220 non-null   int64  \n",
      "dtypes: float64(3), int64(5), object(3)\n",
      "memory usage: 276.8+ KB\n",
      "None\n"
     ]
    },
    {
     "ename": "ValueError",
     "evalue": "The truth value of a Series is ambiguous. Use a.empty, a.bool(), a.item(), a.any() or a.all().",
     "output_type": "error",
     "traceback": [
      "\u001B[0;31m---------------------------------------------------------------------------\u001B[0m",
      "\u001B[0;31mValueError\u001B[0m                                Traceback (most recent call last)",
      "\u001B[0;32m<ipython-input-113-b9cce13d8acf>\u001B[0m in \u001B[0;36m<module>\u001B[0;34m\u001B[0m\n\u001B[1;32m      6\u001B[0m     \u001B[0mc\u001B[0m \u001B[0;34m=\u001B[0m \u001B[0mrow\u001B[0m\u001B[0;34m[\u001B[0m\u001B[0;34m'county'\u001B[0m\u001B[0;34m]\u001B[0m\u001B[0;34m\u001B[0m\u001B[0;34m\u001B[0m\u001B[0m\n\u001B[1;32m      7\u001B[0m     \u001B[0ms\u001B[0m \u001B[0;34m=\u001B[0m \u001B[0mrow\u001B[0m\u001B[0;34m[\u001B[0m\u001B[0;34m'state'\u001B[0m\u001B[0;34m]\u001B[0m\u001B[0;34m\u001B[0m\u001B[0;34m\u001B[0m\u001B[0m\n\u001B[0;32m----> 8\u001B[0;31m     \u001B[0mnp\u001B[0m\u001B[0;34m.\u001B[0m\u001B[0mwhere\u001B[0m\u001B[0;34m(\u001B[0m\u001B[0;34m(\u001B[0m\u001B[0mdata\u001B[0m\u001B[0;34m[\u001B[0m\u001B[0;34m'infection_by_county'\u001B[0m\u001B[0;34m]\u001B[0m\u001B[0;34m[\u001B[0m\u001B[0;34m'county'\u001B[0m\u001B[0;34m]\u001B[0m \u001B[0;34m==\u001B[0m \u001B[0mc\u001B[0m \u001B[0;32mand\u001B[0m \u001B[0mdata\u001B[0m\u001B[0;34m[\u001B[0m\u001B[0;34m'infection_by_county'\u001B[0m\u001B[0;34m]\u001B[0m\u001B[0;34m[\u001B[0m\u001B[0;34m'state'\u001B[0m\u001B[0;34m]\u001B[0m \u001B[0;34m==\u001B[0m \u001B[0ms\u001B[0m\u001B[0;34m)\u001B[0m\u001B[0;34m,\u001B[0m \u001B[0mrow\u001B[0m\u001B[0;34m[\u001B[0m\u001B[0;34m'population'\u001B[0m\u001B[0;34m]\u001B[0m\u001B[0;34m,\u001B[0m \u001B[0;36m1\u001B[0m\u001B[0;34m)\u001B[0m\u001B[0;34m\u001B[0m\u001B[0;34m\u001B[0m\u001B[0m\n\u001B[0m\u001B[1;32m      9\u001B[0m     \u001B[0;31m#data['infection_by_county']['population'] = np.where((data['infection_by_county']['county'] == c && data['infection_by_county']['state'] == s), pbc['population'], 1)\u001B[0m\u001B[0;34m\u001B[0m\u001B[0;34m\u001B[0m\u001B[0;34m\u001B[0m\u001B[0m\n\u001B[1;32m     10\u001B[0m \u001B[0;34m\u001B[0m\u001B[0m\n",
      "\u001B[0;32m/usr/local/lib/python3.9/site-packages/pandas/core/generic.py\u001B[0m in \u001B[0;36m__nonzero__\u001B[0;34m(self)\u001B[0m\n\u001B[1;32m   1437\u001B[0m     \u001B[0;34m@\u001B[0m\u001B[0mfinal\u001B[0m\u001B[0;34m\u001B[0m\u001B[0;34m\u001B[0m\u001B[0m\n\u001B[1;32m   1438\u001B[0m     \u001B[0;32mdef\u001B[0m \u001B[0m__nonzero__\u001B[0m\u001B[0;34m(\u001B[0m\u001B[0mself\u001B[0m\u001B[0;34m)\u001B[0m\u001B[0;34m:\u001B[0m\u001B[0;34m\u001B[0m\u001B[0;34m\u001B[0m\u001B[0m\n\u001B[0;32m-> 1439\u001B[0;31m         raise ValueError(\n\u001B[0m\u001B[1;32m   1440\u001B[0m             \u001B[0;34mf\"The truth value of a {type(self).__name__} is ambiguous. \"\u001B[0m\u001B[0;34m\u001B[0m\u001B[0;34m\u001B[0m\u001B[0m\n\u001B[1;32m   1441\u001B[0m             \u001B[0;34m\"Use a.empty, a.bool(), a.item(), a.any() or a.all().\"\u001B[0m\u001B[0;34m\u001B[0m\u001B[0;34m\u001B[0m\u001B[0m\n",
      "\u001B[0;31mValueError\u001B[0m: The truth value of a Series is ambiguous. Use a.empty, a.bool(), a.item(), a.any() or a.all()."
     ]
    }
   ],
   "source": []
  },
  {
   "cell_type": "code",
   "execution_count": null,
   "metadata": {},
   "outputs": [],
   "source": []
  }
 ],
 "metadata": {
  "kernelspec": {
   "display_name": "Python 3",
   "language": "python",
   "name": "python3"
  },
  "language_info": {
   "codemirror_mode": {
    "name": "ipython",
    "version": 3
   },
   "file_extension": ".py",
   "mimetype": "text/x-python",
   "name": "python",
   "nbconvert_exporter": "python",
   "pygments_lexer": "ipython3",
   "version": "3.9.1"
  }
 },
 "nbformat": 4,
 "nbformat_minor": 4
}